{
 "cells": [
  {
   "cell_type": "markdown",
   "metadata": {},
   "source": [
    "# Building a GCMC model..."
   ]
  },
  {
   "cell_type": "markdown",
   "metadata": {},
   "source": [
    "This script uses MC moves for adding and removing particles in the Grand-canonical ensemble.    \n",
    "    \n",
    "This simulation models a lattice-gas, using the chemical potential of each species to define the acceptance criteria.    \n",
    "    \n",
    "For more information, see <i> Understanding molecular simulations (Frenkel & Smit), Chapter 5.6 </i>\n",
    "\n",
    "We'll start with simply (1) adding/removing particles, then introduce (2) a "
   ]
  },
  {
   "cell_type": "markdown",
   "metadata": {},
   "source": [
    "## Imports"
   ]
  },
  {
   "cell_type": "code",
   "execution_count": null,
   "metadata": {
    "collapsed": true
   },
   "outputs": [],
   "source": [
    "# standard library imports\n",
    "from math import ceil, exp, floor, sqrt, pi\n",
    "from random import random, randint\n",
    "\n",
    "# related third party imports\n",
    "import matplotlib.pyplot as plt\n",
    "import numpy as np\n",
    "\n",
    "%matplotlib inline\n",
    "\n",
    "# local application/library specific imports\n",
    "from utilities import draw_lattice_configuration, Histogram\n",
    "\n",
    "%matplotlib inline"
   ]
  },
  {
   "cell_type": "markdown",
   "metadata": {},
   "source": [
    "## Simulation parameters"
   ]
  },
  {
   "cell_type": "code",
   "execution_count": null,
   "metadata": {
    "collapsed": true
   },
   "outputs": [],
   "source": [
    "# simulation parameters\n",
    "length                   = 10                # number of sites per side\n",
    "sites                    = length * length   # total number of sites\n",
    "particles                = 10                # number of particles\n",
    "cycles                   = 1000              # number of MC cycles\n",
    "add_remove_probability   = 0.5               # probability of add/remove move\n",
    "drawing_frequency        = 100               # draw configuration every"
   ]
  },
  {
   "cell_type": "markdown",
   "metadata": {},
   "source": [
    "## Initialize simulation"
   ]
  },
  {
   "cell_type": "code",
   "execution_count": null,
   "metadata": {
    "collapsed": true
   },
   "outputs": [],
   "source": [
    "def init_simulation(length, particles):\n",
    "    occupancy = np.zeros([length, length])\n",
    "    coordinates = np.zeros([2, particles])\n",
    "\n",
    "    placed_particles = 0\n",
    "    for x in range(length):\n",
    "        for y in range(length):\n",
    "            if placed_particles < particles:\n",
    "                coordinates[0, placed_particles] = x\n",
    "                coordinates[1, placed_particles] = y\n",
    "                occupancy[x, y] = 1\n",
    "                placed_particles += 1\n",
    "                \n",
    "    return coordinates, occupancy"
   ]
  },
  {
   "cell_type": "code",
   "execution_count": null,
   "metadata": {
    "collapsed": false,
    "scrolled": true
   },
   "outputs": [],
   "source": [
    "coordinates, occupancy = init_simulation(length, particles)          \n",
    "draw_lattice_configuration(coordinates, length)"
   ]
  },
  {
   "cell_type": "markdown",
   "metadata": {},
   "source": [
    "## Create histogram for particle concentration(s)"
   ]
  },
  {
   "cell_type": "code",
   "execution_count": null,
   "metadata": {
    "collapsed": true
   },
   "outputs": [],
   "source": [
    "value_range        = [0, 1]    # (min, max) particle conc. [frac.]\n",
    "increment          = 0.025     # bin-width\n",
    "output_frequency   = 100       # cycles-per-calculation\n",
    "\n",
    "histogram = Histogram(value_range, increment, output_frequency)"
   ]
  },
  {
   "cell_type": "code",
   "execution_count": null,
   "metadata": {
    "collapsed": false
   },
   "outputs": [],
   "source": [
    "def set_phi():\n",
    "    # set parameters for particle concentration(s), phi\n",
    "    sample_start = 100.            # step to start sampling phi\n",
    "    average_phi = 0.               # holds average phi\n",
    "    sample_count = 0               # holds number of times sampled\n",
    "    return average_phi, sample_count, sample_start\n",
    "\n",
    "average_phi, sample_count, sample_start = set_phi()"
   ]
  },
  {
   "cell_type": "markdown",
   "metadata": {},
   "source": [
    "# (1) Adding/removing particles"
   ]
  },
  {
   "cell_type": "markdown",
   "metadata": {},
   "source": [
    "## MC simulation"
   ]
  },
  {
   "cell_type": "code",
   "execution_count": null,
   "metadata": {
    "collapsed": false
   },
   "outputs": [],
   "source": [
    "def addition_move(length, occupancy, particles, coordinates):\n",
    "    # randomly-adds a particle to the lattice\n",
    "    addition = False\n",
    "    if random() < 0.5:    # ADDITION MOVE\n",
    "        x = randint(0, length - 1)\n",
    "        y = randint(0, length - 1)\n",
    "        if occupancy[x, y] == 0:\n",
    "            particles += 1\n",
    "            coordinates = np.c_[coordinates, [[x], [y]]]\n",
    "            occupancy[x, y] = 1\n",
    "            addition = True\n",
    "    return occupancy, particles, coordinates, addition\n",
    "\n",
    "def remove_move(length, occupancy, particles, coordinates):\n",
    "    # randomly removes a particle from lattice\n",
    "    if random() < particles / float(sites):    # probability of removal is proportional to phi\n",
    "        particles -= 1\n",
    "        particle = randint(0, particles - 1)\n",
    "        occupancy[coordinates[0, particle], coordinates[1, particle]] = 0\n",
    "        np.delete(coordinates, np.s_[particle], axis=1)\n",
    "    return occupancy, particles, coordinates\n",
    "\n",
    "def displacement_move(sites, particles, length, occupancy, coordinates):\n",
    "    # randomly-displaces particles, if any within the lattice\n",
    "    if particles > 0:\n",
    "        for sub_cycle in range(sites):\n",
    "            particle = randint(0, particles - 1)    # choose random particle\n",
    "            x = randint(0, length - 1)              # choose random x-position\n",
    "            y = randint(0, length - 1)              # choose random y-position\n",
    "            if occupancy[x, y] == 0:                # empty old cell\n",
    "                occupancy[coordinates[0, particle], coordinates[1, particle]] = 0\n",
    "                coordinates[0, particle] = x        # save the new position\n",
    "                coordinates[1, particle] = y\n",
    "                occupancy[x, y] = 1                 # update occupancy\n",
    "    return occupancy, coordinates\n",
    "\n",
    "def run_simulation(cycles, add_remove_probability, occupancy, particles,\n",
    "                   coordinates, length, sites, drawing_frequency,\n",
    "                   sample_start, average_phi, sample_count, histogram\n",
    "                  ):\n",
    "    for cycle in range(cycles):\n",
    "        if random() < add_remove_probability:\n",
    "            occupancy, particles, coordinates, addition = addition_move(length, occupancy, particles, coordinates)\n",
    "            if addition == False:\n",
    "                occupancy, particles, coordinates = remove_move(length, occupancy, particles, coordinates)\n",
    "        occupancy, coordinates = displacement_move(sites, particles, length, occupancy, coordinates)\n",
    "\n",
    "        if cycle % drawing_frequency == 0:              # draw configuration\n",
    "            print('cycle:\\t%s' % cycle)\n",
    "            draw_lattice_configuration(coordinates, length)\n",
    "\n",
    "        if cycle > sample_start:                        # sample average phi\n",
    "            average_phi += particles / float(sites)\n",
    "            sample_count += 1\n",
    "            histogram.add_data(particles / float(sites))            \n",
    "    return histogram, sample_count, average_phi"
   ]
  },
  {
   "cell_type": "code",
   "execution_count": null,
   "metadata": {
    "collapsed": false
   },
   "outputs": [],
   "source": [
    "histogram, sample_count, average_phi = run_simulation(cycles, add_remove_probability, occupancy, particles,\n",
    "                                                      coordinates, length, sites, drawing_frequency,\n",
    "                                                      sample_start, average_phi, sample_count, histogram)"
   ]
  },
  {
   "cell_type": "markdown",
   "metadata": {},
   "source": [
    "## Analyse results"
   ]
  },
  {
   "cell_type": "code",
   "execution_count": null,
   "metadata": {
    "collapsed": false,
    "scrolled": true
   },
   "outputs": [],
   "source": [
    "phi1 = average_phi / float(sample_count)\n",
    "print('average phi:\\t%s' % phi1)\n",
    "\n",
    "h1 = histogram\n",
    "simulated1 = h1.histogram / (h1.count * h1.increment)   # normalize\n",
    "plt.bar(h1.values, simulated1, width=h1.increment)\n",
    "\n",
    "# plot theoretical dist.--gaussian with mean=0.5 and variance=0.25\n",
    "theoretical = [exp(-2 * sites * (i - 0.5) ** 2) * sqrt(2 * sites / pi)\n",
    "               for i in h1.values\n",
    "              ]\n",
    "plt.plot(h1.values, theoretical, 'r')\n",
    "plt.show()"
   ]
  },
  {
   "cell_type": "markdown",
   "metadata": {
    "collapsed": true
   },
   "source": [
    "# (2) Activity-based"
   ]
  },
  {
   "cell_type": "markdown",
   "metadata": {},
   "source": [
    "This time, we'll use activity to measure the chemical potential:    \n",
    "$$Z = \\frac{e^{\\beta \\mu}}{\\Lambda^3}$$    \n",
    "which serves in the accept/reject criteria for adding/removing particles."
   ]
  },
  {
   "cell_type": "code",
   "execution_count": null,
   "metadata": {
    "collapsed": true
   },
   "outputs": [],
   "source": [
    "activity = 1."
   ]
  },
  {
   "cell_type": "markdown",
   "metadata": {},
   "source": [
    "Now, we add the acceptance/rejection criteria in the model:"
   ]
  },
  {
   "cell_type": "code",
   "execution_count": null,
   "metadata": {
    "collapsed": true
   },
   "outputs": [],
   "source": [
    "def addition_move(length, occupancy, particles, coordinates):\n",
    "    # randomly-adds a particle to the lattice\n",
    "    addition = False\n",
    "    if random() < 0.5:    # ADDITION MOVE\n",
    "        if random() < activity * sites / (particles + 1):\n",
    "            x = randint(0, length - 1)\n",
    "            y = randint(0, length - 1)\n",
    "            if occupancy[x, y] == 0:\n",
    "                particles += 1\n",
    "                coordinates = np.c_[coordinates, [[x], [y]]]\n",
    "                occupancy[x, y] = 1\n",
    "                addition = True\n",
    "    return occupancy, particles, coordinates, addition\n",
    "\n",
    "def remove_move(length, occupancy, particles, coordinates):\n",
    "    # randomly removes a particle from lattice\n",
    "    if random() < particles / float(sites * activity):    \n",
    "        particles -= 1\n",
    "        particle = randint(0, particles - 1)\n",
    "        occupancy[coordinates[0, particle], coordinates[1, particle]] = 0\n",
    "        np.delete(coordinates, np.s_[particle], axis=1)\n",
    "    return occupancy, particles, coordinates"
   ]
  },
  {
   "cell_type": "markdown",
   "metadata": {},
   "source": [
    "## Run simulation"
   ]
  },
  {
   "cell_type": "code",
   "execution_count": null,
   "metadata": {
    "collapsed": false,
    "scrolled": false
   },
   "outputs": [],
   "source": [
    "# initialize simulation\n",
    "coordinates, occupancy = init_simulation(length, particles)    \n",
    "# create histogam\n",
    "histogram = Histogram(value_range, increment, output_frequency)\n",
    "# set phi\n",
    "average_phi, sample_count, sample_start = set_phi()\n",
    "# run simulation\n",
    "histogram, sample_count, average_phi = run_simulation(cycles, add_remove_probability, occupancy, particles,\n",
    "                                                      coordinates, length, sites, drawing_frequency,\n",
    "                                                      sample_start, average_phi, sample_count, histogram)"
   ]
  },
  {
   "cell_type": "markdown",
   "metadata": {},
   "source": [
    "## Analyse result"
   ]
  },
  {
   "cell_type": "code",
   "execution_count": null,
   "metadata": {
    "collapsed": false
   },
   "outputs": [],
   "source": [
    "phi2 = average_phi / float(sample_count)\n",
    "print('average phi:\\t%s' % phi2)\n",
    "\n",
    "h2 = histogram\n",
    "simulated2 = h2.histogram / (h2.count * h2.increment)   # normalize\n",
    "plt.bar(h1.values, simulated1, width=h1.increment)\n",
    "plt.bar(h2.values, simulated2, width=h2.increment, color='r')\n",
    "plt.plot(h1.values, theoretical, 'r')\n",
    "plt.show()"
   ]
  },
  {
   "cell_type": "markdown",
   "metadata": {},
   "source": [
    "# (3) Ising model"
   ]
  },
  {
   "cell_type": "markdown",
   "metadata": {},
   "source": [
    "This model gives particles favorable interactions with neighbors. These interactions account for the accept/reject probabilities for add/remove and random-displacement moves.    \n",
    "    \n",
    "Now we'll need a function to calculate the number of nearest neighbors:"
   ]
  },
  {
   "cell_type": "code",
   "execution_count": null,
   "metadata": {
    "collapsed": true
   },
   "outputs": [],
   "source": [
    "def nearest_neighbors(x, y, occupancy, length):\n",
    "    # find cells to left and right of a lattice site, accounting for\n",
    "    # periodic boundary conditions\n",
    "    if x == 0:\n",
    "        left = length - 1\n",
    "    else:\n",
    "        left = x - 1\n",
    "    if x == length - 1:\n",
    "        right = 0\n",
    "    else:\n",
    "        right = x + 1\n",
    "    neighbors = occupancy[left, y] + occupancy[right, y]\n",
    "    # find cells to top and bottom of a lattice site, accounting for\n",
    "    # periodic boundary conditions\n",
    "    if y == 0:\n",
    "        down = length - 1\n",
    "    else:\n",
    "        down = y - 1\n",
    "    if y == length - 1:\n",
    "        up = 0\n",
    "    else:\n",
    "        up = y + 1\n",
    "    neighbors += occupancy[x, down] + occupancy[x, up]\n",
    "    \n",
    "    return neighbors"
   ]
  },
  {
   "cell_type": "markdown",
   "metadata": {},
   "source": [
    "Our simulation becomes a bit more complicated. We're now adding the following parameters:"
   ]
  },
  {
   "cell_type": "code",
   "execution_count": null,
   "metadata": {
    "collapsed": true
   },
   "outputs": [],
   "source": [
    "length         = 15\n",
    "sites          = length ** 2\n",
    "particles      = sites          # lattice is now full\n",
    "temperature    = 0.53           # temperature\n",
    "mu             = -2.            # chemical potential\n",
    "activity       = exp(mu / temperature)\n",
    "\n",
    "add_rem_cycles = 100\n",
    "draw_frequency = 100"
   ]
  },
  {
   "cell_type": "markdown",
   "metadata": {},
   "source": [
    "First we must initialize the lattice and calculate the potential energy."
   ]
  },
  {
   "cell_type": "code",
   "execution_count": null,
   "metadata": {
    "collapsed": false
   },
   "outputs": [],
   "source": [
    "coordinates, occupancy = init_simulation(length, particles)          \n",
    "\n",
    "U = 0\n",
    "for x in range(length):\n",
    "    for y in range(length):\n",
    "        U = U - occupancy[x, y] * nearest_neighbors(x, y, occupancy, length)\n",
    "U = U / 2.    # adjust for over-counting\n",
    "\n",
    "print('internal energy (U) :\\t%s' % U)\n",
    "draw_lattice_configuration(coordinates, length)\n",
    "\n",
    "histogram = Histogram(value_range, increment, output_frequency)\n",
    "average_phi, sample_count, sample_start = set_phi()"
   ]
  },
  {
   "cell_type": "markdown",
   "metadata": {},
   "source": [
    "Now, to accept/reject moves we first calculate a proposed move's effect upon the interanl energy. There are now also multiple add/remove moves per cycle."
   ]
  },
  {
   "cell_type": "code",
   "execution_count": null,
   "metadata": {
    "collapsed": false
   },
   "outputs": [],
   "source": [
    "def addition_move(length, occupancy, particles, coordinates, U):\n",
    "    # randomly-adds a particle to the lattice\n",
    "    addition = False\n",
    "    if random() < 0.5:    # ADDITION MOVE\n",
    "        x = randint(0, length - 1)\n",
    "        y = randint(0, length - 1)\n",
    "        if occupancy[x, y] == 0:\n",
    "            delta_U = - nearest_neighbors(x, y, occupancy, length)\n",
    "            if random() < exp(-delta_U / temperature) * activity * sites / (particles + 1):\n",
    "                U += delta_U\n",
    "                particles += 1\n",
    "                coordinates = np.c_[coordinates, [[x], [y]]]\n",
    "                occupancy[x, y] = 1\n",
    "                addition = True\n",
    "    return occupancy, particles, coordinates, addition, U\n",
    "\n",
    "def remove_move(length, occupancy, particles, coordinates, U):\n",
    "    # randomly removes a particle from lattice\n",
    "    if random() < particles / float(sites):    # probability of removal is proportional to phi\n",
    "        particle = randint(0, particles - 1)\n",
    "        x = coordinates[0, particle]\n",
    "        y = coordinates[1, particle]\n",
    "        delta_U = nearest_neighbors(x, y, occupancy, length)\n",
    "        if random() < exp(-delta_U / temperature) * particles / (sites * activity):\n",
    "            U += delta_U\n",
    "            occupancy[coordinates[0, particle], coordinates[1, particle]] = 0\n",
    "            np.delete(coordinates, np.s_[particle], axis=1)\n",
    "            particles -= 1\n",
    "    return occupancy, particles, coordinates, U\n",
    "\n",
    "def displacement_move(sites, particles, length, occupancy, coordinates, U):\n",
    "    # randomly-displaces particles, if any within the lattice\n",
    "    if particles > 0:\n",
    "        for sub_cycle in range(sites):\n",
    "            particle = randint(0, particles - 1)    # choose random particle\n",
    "            x_p = coordinates[0, particle]\n",
    "            y_p = coordinates[1, particle]\n",
    "            x = randint(0, length - 1)              # choose random x-position\n",
    "            y = randint(0, length - 1)              # choose random y-position\n",
    "            if occupancy[x, y] == 0:\n",
    "                # CALCULATING CHANGE IN POTENTIAL ENERGY\n",
    "                # loss in energy at current particle position\n",
    "                delta_U = nearest_neighbors(x_p, y_p, occupancy, length)\n",
    "                # gain in energy at the new particle position\n",
    "                occupancy[x_p, y_p] = 0\n",
    "                delta_U += - nearest_neighbors(x, y, occupancy, length)\n",
    "                occupancy[x_p, y_p] = 1\n",
    "                if random() < exp(-delta_U / temperature):\n",
    "                    U += delta_U\n",
    "                    occupancy[x_p, y_p] = 0\n",
    "                    coordinates[0, particle] = x        # save the new position\n",
    "                    coordinates[1, particle] = y\n",
    "                    occupancy[x, y] = 1                 # update occupancy\n",
    "    return occupancy, coordinates, U\n",
    "\n",
    "def run_simulation(cycles, add_remove_probability, occupancy, particles,\n",
    "                   coordinates, length, sites, drawing_frequency,\n",
    "                   sample_start, average_phi, sample_count, histogram,\n",
    "                   add_rem_cycles, U\n",
    "                  ):\n",
    "    for cycle in range(cycles):\n",
    "        for sub_cycle in range(add_rem_cycles):\n",
    "            if random() < add_remove_probability:\n",
    "                occupancy, particles, coordinates, addition, U = addition_move(length, occupancy, \n",
    "                                                                               particles, coordinates, U)\n",
    "                if addition == False:\n",
    "                    occupancy, particles, coordinates, U = remove_move(length, occupancy, particles,\n",
    "                                                                       coordinates, U)\n",
    "        occupancy, coordinates, U = displacement_move(sites, particles, length, occupancy,\n",
    "                                                      coordinates, U)\n",
    "\n",
    "        if cycle % drawing_frequency == 0:              # draw configuration\n",
    "            print('cycle :\\t%s\\t\\tinternal energy (U) :\\t%s' % (cycle, U))\n",
    "            draw_lattice_configuration(coordinates, length)\n",
    "\n",
    "        if cycle > sample_start:                        # sample average phi\n",
    "            average_phi += particles / float(sites)\n",
    "            sample_count += 1\n",
    "            histogram.add_data(particles / float(sites))            \n",
    "    return histogram, sample_count, average_phi"
   ]
  },
  {
   "cell_type": "markdown",
   "metadata": {},
   "source": [
    "## Run simulation"
   ]
  },
  {
   "cell_type": "code",
   "execution_count": null,
   "metadata": {
    "collapsed": false,
    "scrolled": false
   },
   "outputs": [],
   "source": [
    "histogram, sample_count, average_phi = run_simulation(cycles, add_remove_probability, occupancy, particles,\n",
    "                                                      coordinates, length, sites, drawing_frequency,\n",
    "                                                      sample_start, average_phi, sample_count, histogram,\n",
    "                                                      add_rem_cycles, U)"
   ]
  },
  {
   "cell_type": "markdown",
   "metadata": {},
   "source": [
    "## Analyse result"
   ]
  },
  {
   "cell_type": "code",
   "execution_count": null,
   "metadata": {
    "collapsed": false
   },
   "outputs": [],
   "source": [
    "phi3 = average_phi / float(sample_count)\n",
    "print('average phi:\\t%s' % phi3)\n",
    "\n",
    "h3 = histogram\n",
    "simulated3 = h3.histogram / (h3.count * h3.increment)   # normalize\n",
    "plt.bar(h1.values, simulated1, width=h1.increment)\n",
    "plt.bar(h2.values, simulated2, width=h2.increment, color='r')\n",
    "plt.bar(h3.values, simulated3, width=h3.increment, color='g')\n",
    "plt.plot(h1.values, theoretical, 'r')\n",
    "plt.show()"
   ]
  },
  {
   "cell_type": "markdown",
   "metadata": {},
   "source": [
    "# (4) Even better models..."
   ]
  },
  {
   "cell_type": "markdown",
   "metadata": {},
   "source": [
    "These MC simulations have all consisted of a <i>single</i> stochastic process, evaluating the energy of the system, accepting/rejecting moves according to the temperature.     \n",
    "    \n",
    "Running multiple simulations at temperatures separated by a relatively small $\\Delta T$, one can obtain an energy histogram from the overlap between the two simulations. This is called <b><i>parallel tempering</b></i> We can swap the two configurations to update the overall system, because Markov chains shouldn't have any memory of the past. The Metropolis-Hastings criterion determines whether the <i>swap</i> is accepted:    \n",
    "$$p = min\\Bigg(1, \\frac{exp\\big(-\\frac{E_j}{k T_i} -\\frac{E_i}{k T_j}\\big)}{exp\\big(-\\frac{E_i}{k T_i} -\\frac{E_j}{k T_j}\\big)}\\Bigg) = min\\Bigg( 1, e^{E_i - E_j}\\big(\\frac{1}{k T_i} - \\frac{1}{k T_j} \\big) \\Bigg)$$\n",
    "Carefully selected temperatures and number of systems can result in improved mixing properties, however excessive numbers of systems can be detrimental due to <i>lateral diffusion</i>.    \n",
    "    \n",
    "Parallel tempering is also known as <i><b>replica exchange MCMC sampling</b></i>. These methods essentially make high temperature configurations available at lower temperatures, improving the precision of specific heat calculations, which are not alway handled well by the canonical ensemble."
   ]
  }
 ],
 "metadata": {
  "kernelspec": {
   "display_name": "Python 3",
   "language": "python",
   "name": "python3"
  },
  "language_info": {
   "codemirror_mode": {
    "name": "ipython",
    "version": 3
   },
   "file_extension": ".py",
   "mimetype": "text/x-python",
   "name": "python",
   "nbconvert_exporter": "python",
   "pygments_lexer": "ipython3",
   "version": "3.5.1"
  }
 },
 "nbformat": 4,
 "nbformat_minor": 0
}
