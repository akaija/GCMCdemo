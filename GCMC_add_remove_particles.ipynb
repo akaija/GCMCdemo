{
 "cells": [
  {
   "cell_type": "markdown",
   "metadata": {},
   "source": [
    "# Adding/removing particles in GCMC"
   ]
  },
  {
   "cell_type": "markdown",
   "metadata": {},
   "source": [
    "This script uses MC moves for adding and removing particles in the Grand-canonical ensemble.    \n",
    "    \n",
    "This simulation models a lattice-gas, using the chemical potential of each species to define the acceptance criteria.    \n",
    "    \n",
    "For more information, see <i> Understanding molecular simulations (Frenkel & Smit), Chapter 5.6 </i>"
   ]
  },
  {
   "cell_type": "markdown",
   "metadata": {},
   "source": [
    "## Imports"
   ]
  },
  {
   "cell_type": "code",
   "execution_count": null,
   "metadata": {
    "collapsed": true
   },
   "outputs": [],
   "source": [
    "# standard library imports\n",
    "from math import ceil, exp, floor, sqrt, pi\n",
    "from random import random, randint\n",
    "\n",
    "# related third party imports\n",
    "import matplotlib.pyplot as plt\n",
    "import numpy as np\n",
    "%matplotlib inline\n",
    "\n",
    "# local application/library specific imports\n",
    "from utilities import draw_lattice_configuration, Histogram\n",
    "\n",
    "%matplotlib inline"
   ]
  },
  {
   "cell_type": "markdown",
   "metadata": {},
   "source": [
    "## Simulation parameters"
   ]
  },
  {
   "cell_type": "code",
   "execution_count": null,
   "metadata": {
    "collapsed": true
   },
   "outputs": [],
   "source": [
    "# simulation parameters\n",
    "length                   = 10                # number of sites per side\n",
    "sites                    = length * length   # total number of sites\n",
    "particles                = 10                # number of particles\n",
    "cycles                   = 10000             # number of MC cycles\n",
    "add_remove_probability   = 0.5               # probability of add/remove move\n",
    "drawing_frequency        = 1000              # draw configuration every"
   ]
  },
  {
   "cell_type": "markdown",
   "metadata": {},
   "source": [
    "## Initializing simulation"
   ]
  },
  {
   "cell_type": "code",
   "execution_count": null,
   "metadata": {
    "collapsed": false,
    "scrolled": true
   },
   "outputs": [],
   "source": [
    "occupancy = np.zeros([length, length])\n",
    "coordinates = np.zeros([2, particles])\n",
    "\n",
    "placed_particles = 0\n",
    "for x in range(length):\n",
    "    for y in range(length):\n",
    "        if placed_particles < particles:\n",
    "            coordinates[0, placed_particles] = x\n",
    "            coordinates[1, placed_particles] = y\n",
    "            occupancy[x, y] = 1\n",
    "            placed_particles += 1\n",
    "            \n",
    "draw_lattice_configuration(coordinates, length)"
   ]
  },
  {
   "cell_type": "markdown",
   "metadata": {},
   "source": [
    "## Create histogram for particle concentration(s)"
   ]
  },
  {
   "cell_type": "code",
   "execution_count": null,
   "metadata": {
    "collapsed": true
   },
   "outputs": [],
   "source": [
    "value_range        = [0, 1]    # (min, max) particle conc. [frac.]\n",
    "increment          = 0.025     # bin-width\n",
    "output_frequency   = 1000      # cycles-per-calculation\n",
    "\n",
    "histogram = Histogram(value_range, increment, output_frequency)\n",
    "\n",
    "# set parameters for particle concentration(s), phi\n",
    "sample_start = 1000            # step to start sampling phi\n",
    "average_phi = 0.                # holds average phi\n",
    "sample_count = 0               # holds number of times sampled"
   ]
  },
  {
   "cell_type": "markdown",
   "metadata": {},
   "source": [
    "## MC simulation"
   ]
  },
  {
   "cell_type": "code",
   "execution_count": null,
   "metadata": {
    "collapsed": false
   },
   "outputs": [],
   "source": [
    "add_count = 0\n",
    "remove_count = 0\n",
    "\n",
    "for cycle in range(cycles):\n",
    "#    print('%s\\t%s' % (cycle, particles))\n",
    "    if random() < add_remove_probability:\n",
    "        if random() > 0.5:    # ADDITION MOVE\n",
    "            x = randint(0, length - 1)\n",
    "            y = randint(0, length - 1)\n",
    "            if occupancy[x, y] == 0:\n",
    "                particles += 1\n",
    "                coordinates = np.c_[coordinates, [[x], [y]]]\n",
    "                occupancy[x, y] = 1\n",
    "                add_count += 1\n",
    "        else:                 # REMOVAL MOVE\n",
    "            if random() < 0.05 * particles / float(sites):\n",
    "                # probability of removal is proportional to phi\n",
    "                particles -= 1\n",
    "                particle = randint(0, particles - 1)\n",
    "                occupancy[coordinates[0, particle], coordinates[1, particle]] = 0\n",
    "                np.delete(coordinates, np.s_[particle], axis=1)\n",
    "                remove_count += 1\n",
    "                \n",
    "    if particles > 0:  # DISPLACEMENT MOVE\n",
    "        for sub_cycle in range(sites):\n",
    "            particle = randint(0, particles - 1)    # choose random particle\n",
    "            x = randint(0, length - 1)              # choose random x-position\n",
    "            y = randint(0, length - 1)              # choose random y-position\n",
    "            if occupancy[x, y] == 0:                # empty old cell\n",
    "                occupancy[coordinates[0, particle], coordinates[1, particle]] = 0\n",
    "                coordinates[0, particle] = x        # save the new position\n",
    "                coordinates[1, particle] = y\n",
    "                occupancy[x, y] = 1                 # update occupancy\n",
    "                \n",
    "    if cycle % drawing_frequency == 0:              # draw configuration\n",
    "        print('cycle:\\t%s' % cycle)\n",
    "        draw_lattice_configuration(coordinates, length)\n",
    "        \n",
    "    if cycle > sample_start:                        # sample average phi\n",
    "        average_phi += particles / float(sites)\n",
    "        sample_count += 1\n",
    "        histogram.add_data(particles / float(sites))"
   ]
  },
  {
   "cell_type": "markdown",
   "metadata": {},
   "source": [
    "## Analyse results"
   ]
  },
  {
   "cell_type": "code",
   "execution_count": null,
   "metadata": {
    "collapsed": false,
    "scrolled": true
   },
   "outputs": [],
   "source": [
    "print('average phi:\\t%s' % (average_phi / sample_count))\n",
    "\n",
    "h = histogram\n",
    "simulated = h.histogram / (h.count * h.increment)   # normalize\n",
    "plt.bar(h.values, simulated, width=h.increment)\n",
    "\n",
    "# plot theoretical dist.--gaussian with mean=0.5 and variance=0.25\n",
    "theoretical = [exp(-2 * sites * (i - 0.5) ** 2) * sqrt(2 * sites / pi)\n",
    "               for i in h.values\n",
    "              ]\n",
    "plt.plot(h.values, theoretical, 'r')\n",
    "plt.show()"
   ]
  },
  {
   "cell_type": "code",
   "execution_count": null,
   "metadata": {
    "collapsed": true
   },
   "outputs": [],
   "source": []
  }
 ],
 "metadata": {
  "kernelspec": {
   "display_name": "Python 3",
   "language": "python",
   "name": "python3"
  },
  "language_info": {
   "codemirror_mode": {
    "name": "ipython",
    "version": 3
   },
   "file_extension": ".py",
   "mimetype": "text/x-python",
   "name": "python",
   "nbconvert_exporter": "python",
   "pygments_lexer": "ipython3",
   "version": "3.5.1"
  }
 },
 "nbformat": 4,
 "nbformat_minor": 0
}
